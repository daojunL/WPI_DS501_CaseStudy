{
 "cells": [
  {
   "cell_type": "markdown",
   "metadata": {},
   "source": [
    "# Case Study 1 : Yelp Data Analysis"
   ]
  },
  {
   "cell_type": "markdown",
   "metadata": {},
   "source": [
    "**Required Readings:** \n",
    "* [Yelp Dataset Challenge](https://www.yelp.com/dataset_challenge) \n",
    "* Please download the Yelp dataset from the above webpage.\n",
    "\n",
    "**NOTE**\n",
    "* Please don't forget to save the notebook frequently when working in Jupyter Notebook, otherwise the changes you made can be lost.\n",
    "\n",
    "\n",
    "Here is an example of the data format. More details are included [here](https://www.yelp.com/dataset_challenge)\n",
    "\n",
    "## Business Objects\n",
    "\n",
    "Business objects contain basic information about local businesses. The fields are as follows:\n",
    "\n",
    "```json\n",
    "{\n",
    "  'type': 'business',\n",
    "  'business_id': (a unique identifier for this business),\n",
    "  'name': (the full business name),\n",
    "  'neighborhoods': (a list of neighborhood names, might be empty),\n",
    "  'full_address': (localized address),\n",
    "  'city': (city),\n",
    "  'state': (state),\n",
    "  'latitude': (latitude),\n",
    "  'longitude': (longitude),\n",
    "  'stars': (star rating, rounded to half-stars),\n",
    "  'review_count': (review count),\n",
    "  'photo_url': (photo url),\n",
    "  'categories': [(localized category names)]\n",
    "  'open': (is the business still open for business?),\n",
    "  'schools': (nearby universities),\n",
    "  'url': (yelp url)\n",
    "}\n",
    "```\n",
    "## Checkin Objects\n",
    "```json\n",
    "{\n",
    "    'type': 'checkin',\n",
    "    'business_id': (encrypted business id),\n",
    "    'checkin_info': {\n",
    "        '0-0': (number of checkins from 00:00 to 01:00 on all Sundays),\n",
    "        '1-0': (number of checkins from 01:00 to 02:00 on all Sundays),\n",
    "        ...\n",
    "        '14-4': (number of checkins from 14:00 to 15:00 on all Thursdays),\n",
    "        ...\n",
    "        '23-6': (number of checkins from 23:00 to 00:00 on all Saturdays)\n",
    "    }, # if there was no checkin for a hour-day block it will not be in the dict\n",
    "}\n",
    "```"
   ]
  },
  {
   "cell_type": "markdown",
   "metadata": {},
   "source": [
    "# Problem: pick a data science problem that you plan to solve using Yelp Data\n",
    "* The problem should be important and interesting, which has a potential impact in some area.\n",
    "* The problem should be solvable using yelp data and data science solutions.\n",
    "\n",
    "Please briefly describe in the following cell: what problem are you trying to solve? why this problem is important and interesting?"
   ]
  },
  {
   "cell_type": "markdown",
   "metadata": {
    "collapsed": true
   },
   "source": [
    "<b>The problem we are picking</b> \n",
    "<ol>We are trying to predict the star rating of the business objects based on customers' reviews. We want to find the connection between customers' comments and their star rating.</ol>\n",
    "<b>Why important and interesting?</b>\n",
    "<ol> It's an interesting problem because we want to figure out whether customers' reviews can reflect their expectations. While star rating implies the ranking we have for a particular service or things, our comments may reveal more information about what we feel and there may be a difference between our words and expectations. Therefore, it's important for the business objects to utilize the value of their customers' reviews and understand their customers' real needs.  </ol>"
   ]
  },
  {
   "cell_type": "markdown",
   "metadata": {},
   "source": [
    "# Data Collection/Processing: "
   ]
  },
  {
   "cell_type": "code",
   "execution_count": 2,
   "metadata": {},
   "outputs": [],
   "source": [
    "# import packages and functions\n",
    "import json\n",
    "import pandas as pd\n",
    "import numpy as np\n",
    "from sklearn.feature_extraction.text import  CountVectorizer\n",
    "from sklearn.naive_bayes import MultinomialNB\n",
    "from pandas import Series\n",
    "from sklearn import metrics\n",
    "from wordcloud import WordCloud\n",
    "import matplotlib.pyplot as plt\n",
    "from PIL import Image\n",
    "import nltk\n",
    "# nltk.download('punkt') \n",
    "# nltk.download('stopwords')\n",
    "import string\n",
    "from nltk import word_tokenize\n",
    "from nltk.util import bigrams, trigrams\n",
    "from nltk.corpus import stopwords\n",
    "from nltk.stem.porter import PorterStemmer\n",
    "from collections import Counter"
   ]
  },
  {
   "cell_type": "markdown",
   "metadata": {},
   "source": [
    "### Import \"review.json\" data and \"business.json\" data"
   ]
  },
  {
   "cell_type": "markdown",
   "metadata": {},
   "source": [
    "<b><i>Note</i></b>: we extract 1000000 records from review file because review file is so large (more than 5.0 GB) and we cannot import it at one time (the processing time will also be quite long) so we take 1000000 records from review file for convenience and we think 1000000 records is enough for us to perform analysis on the connection between user's review and their star rating."
   ]
  },
  {
   "cell_type": "code",
   "execution_count": 9,
   "metadata": {},
   "outputs": [],
   "source": [
    "# access the file path of \"business.json\" file and \"review.json\" file and \"checkin.json\" from personal computer\n",
    "review_file = '/Users/daojun/Documents/wpi_classes/ds501_IntrotoDS/Cases/case1/data_yelp/yelp_dataset/review.json' \n",
    "business_file = '/Users/daojun/Documents/wpi_classes/ds501_IntrotoDS/Cases/case1/data_yelp/yelp_dataset/business.json'\n",
    "checkin_file='/Users/daojun/Documents/wpi_classes/ds501_IntrotoDS/Cases/case1/data_yelp/yelp_dataset/checkin.json'"
   ]
  },
  {
   "cell_type": "code",
   "execution_count": 4,
   "metadata": {},
   "outputs": [],
   "source": [
    "# access \"review.json\" data\n",
    "i = 0            \n",
    "lines_num = 1000000\n",
    "data_list = list(range(lines_num))         \n",
    "with open(review_file) as r:            \n",
    "    for line in r:                      \n",
    "        data_list[i] = json.loads(line)\n",
    "        i = i+1                         \n",
    "        if i == lines_num:                 \n",
    "            break                       \n",
    "review = pd.DataFrame(data_list)"
   ]
  },
  {
   "cell_type": "code",
   "execution_count": 5,
   "metadata": {},
   "outputs": [],
   "source": [
    "# access \"business.json\" data\n",
    "with open(business_file) as f:\n",
    "    business = pd.DataFrame(json.loads(line) for line in f)"
   ]
  },
  {
   "cell_type": "code",
   "execution_count": 10,
   "metadata": {},
   "outputs": [],
   "source": [
    "# access \"checkin.json\" data\n",
    "with open(checkin_file) as f:\n",
    "    check = pd.DataFrame(json.loads(line) for line in f)"
   ]
  },
  {
   "cell_type": "markdown",
   "metadata": {},
   "source": [
    "### Review Data Processing\n",
    "Now, we want to remove all useless information in the text. We download the stopwords with nltk.download( ).\n",
    "In the code below, stopwords.words('english') returns a list of lowercase stop words like \"is, was, for,\" etc. We believe that those words have no useful information for classification. So we remove them as noise."
   ]
  },
  {
   "cell_type": "code",
   "execution_count": 6,
   "metadata": {},
   "outputs": [],
   "source": [
    "NLTK_STOPWORDS = set(stopwords.words('english'))"
   ]
  },
  {
   "cell_type": "code",
   "execution_count": 7,
   "metadata": {},
   "outputs": [],
   "source": [
    "# define the stopwords remove function \n",
    "def remove_stopwords(s):\n",
    "    token_list = nltk.word_tokenize(s)\n",
    "    exclude_stopwords = lambda token : token not in NLTK_STOPWORDS\n",
    "    return ' '.join(filter(exclude_stopwords, token_list))\n",
    "\n",
    "def restring_tokens(token_list):\n",
    "    return ' '.join(token_list)\n",
    "\n",
    "def remove(s):\n",
    "    s = remove_stopwords(s)\n",
    "    token_list = nltk.word_tokenize(s)\n",
    "    return restring_tokens(token_list)"
   ]
  },
  {
   "cell_type": "code",
   "execution_count": 15,
   "metadata": {},
   "outputs": [],
   "source": [
    "review[\"text\"] = review[\"text\"].apply(remove)"
   ]
  },
  {
   "cell_type": "markdown",
   "metadata": {},
   "source": [
    "# Data Exploration: Exploring the Yelp Dataset\n",
    "\n",
    "**(1) Finding the most popular business categories:** \n",
    "* print the top 10 most popular business categories in the dataset and their counts (i.e., how many business objects in each category). Here we say a category is \"popular\" if there are many business objects in this category (such as 'restaurants')."
   ]
  },
  {
   "cell_type": "code",
   "execution_count": 71,
   "metadata": {},
   "outputs": [
    {
     "name": "stdout",
     "output_type": "stream",
     "text": [
      " Restaurants         41423\n",
      " Shopping            24087\n",
      " Food                21966\n",
      "Restaurants          17948\n",
      " Home Services       14462\n",
      " Beauty & Spas       13538\n",
      " Health & Medical    12601\n",
      " Local Services      10519\n",
      " Nightlife           10382\n",
      " Bars                 9209\n",
      "dtype: int64\n"
     ]
    }
   ],
   "source": [
    "bus = business['categories'].str.split(',', expand = True)\n",
    "count_b = bus.apply(pd.Series.value_counts)\n",
    "sum_b = count_b.apply(np.sum, axis = 1).astype('int')\n",
    "print(sum_b.sort_values(ascending = False).head(10))"
   ]
  },
  {
   "cell_type": "markdown",
   "metadata": {},
   "source": [
    "** (2) Find the most popular business objects** \n",
    "* print the top 10 most popular business objects in the dataset and their counts (i.e., how many checkins in total for each business object).  Here we say a business object is \"popular\" if the business object attracts a large number of checkins from the users."
   ]
  },
  {
   "cell_type": "code",
   "execution_count": 11,
   "metadata": {},
   "outputs": [],
   "source": [
    "# split each checkin time and count for the number of times\n",
    "check['times'] = check.date.str.split(',').apply(len)"
   ]
  },
  {
   "cell_type": "code",
   "execution_count": 14,
   "metadata": {},
   "outputs": [
    {
     "data": {
      "text/html": [
       "<div>\n",
       "<style scoped>\n",
       "    .dataframe tbody tr th:only-of-type {\n",
       "        vertical-align: middle;\n",
       "    }\n",
       "\n",
       "    .dataframe tbody tr th {\n",
       "        vertical-align: top;\n",
       "    }\n",
       "\n",
       "    .dataframe thead th {\n",
       "        text-align: right;\n",
       "    }\n",
       "</style>\n",
       "<table border=\"1\" class=\"dataframe\">\n",
       "  <thead>\n",
       "    <tr style=\"text-align: right;\">\n",
       "      <th></th>\n",
       "      <th>business_id</th>\n",
       "      <th>times</th>\n",
       "    </tr>\n",
       "  </thead>\n",
       "  <tbody>\n",
       "    <tr>\n",
       "      <th>42142</th>\n",
       "      <td>FaHADZARwnY4yvlvpnsfGA</td>\n",
       "      <td>143061</td>\n",
       "    </tr>\n",
       "    <tr>\n",
       "      <th>52735</th>\n",
       "      <td>JmI9nslLD7KZqRr__Bg6NQ</td>\n",
       "      <td>123126</td>\n",
       "    </tr>\n",
       "    <tr>\n",
       "      <th>157953</th>\n",
       "      <td>yQab5dxZzgBLTEHCw9V7_w</td>\n",
       "      <td>54787</td>\n",
       "    </tr>\n",
       "    <tr>\n",
       "      <th>15955</th>\n",
       "      <td>5LNZ67Yw9RD6nf4_UhXOjw</td>\n",
       "      <td>46384</td>\n",
       "    </tr>\n",
       "    <tr>\n",
       "      <th>49667</th>\n",
       "      <td>IZivKqtHyz4-ts8KsnvMrA</td>\n",
       "      <td>38277</td>\n",
       "    </tr>\n",
       "    <tr>\n",
       "      <th>74469</th>\n",
       "      <td>SMPbvZLSMMb7KU76YNYMGg</td>\n",
       "      <td>34353</td>\n",
       "    </tr>\n",
       "    <tr>\n",
       "      <th>86134</th>\n",
       "      <td>Wxxvi3LZbHNIDwJ-ZimtnA</td>\n",
       "      <td>32343</td>\n",
       "    </tr>\n",
       "    <tr>\n",
       "      <th>130714</th>\n",
       "      <td>na4Th5DrNauOv-c43QQFvA</td>\n",
       "      <td>31185</td>\n",
       "    </tr>\n",
       "    <tr>\n",
       "      <th>83644</th>\n",
       "      <td>VyjyHoBg3KC5BSFRlD0ZPQ</td>\n",
       "      <td>30782</td>\n",
       "    </tr>\n",
       "    <tr>\n",
       "      <th>39989</th>\n",
       "      <td>El4FC8jcawUVgw_0EIcbaQ</td>\n",
       "      <td>30098</td>\n",
       "    </tr>\n",
       "  </tbody>\n",
       "</table>\n",
       "</div>"
      ],
      "text/plain": [
       "                   business_id   times\n",
       "42142   FaHADZARwnY4yvlvpnsfGA  143061\n",
       "52735   JmI9nslLD7KZqRr__Bg6NQ  123126\n",
       "157953  yQab5dxZzgBLTEHCw9V7_w   54787\n",
       "15955   5LNZ67Yw9RD6nf4_UhXOjw   46384\n",
       "49667   IZivKqtHyz4-ts8KsnvMrA   38277\n",
       "74469   SMPbvZLSMMb7KU76YNYMGg   34353\n",
       "86134   Wxxvi3LZbHNIDwJ-ZimtnA   32343\n",
       "130714  na4Th5DrNauOv-c43QQFvA   31185\n",
       "83644   VyjyHoBg3KC5BSFRlD0ZPQ   30782\n",
       "39989   El4FC8jcawUVgw_0EIcbaQ   30098"
      ]
     },
     "execution_count": 14,
     "metadata": {},
     "output_type": "execute_result"
    }
   ],
   "source": [
    "# rank the top 10 most popular business objects\n",
    "dfcheck = check[['business_id','times']]\n",
    "dfcheck.sort_values(by = \"times\" , ascending = False).head(10)"
   ]
  },
  {
   "cell_type": "markdown",
   "metadata": {},
   "source": [
    "# The Solution: implement a data science solution to the problem you are trying to solve."
   ]
  },
  {
   "cell_type": "markdown",
   "metadata": {},
   "source": [
    "Briefly describe the idea of your solution to the problem in the following cell:"
   ]
  },
  {
   "cell_type": "markdown",
   "metadata": {
    "collapsed": true
   },
   "source": [
    "### Our main idea to solve the problem\n",
    "\n",
    "\n",
    "To predict the star rating using the review data, we use the Bag of words model. This model can transform natural language into vectors. Each element in one vector corresponds to a unique word. We also use the TF-IDF method to take the importance of words into consideration.\n",
    "\n",
    "\n",
    "### Our steps are below:\n",
    "\n",
    "<ul>1. Divide the review dataset into training data and test data. </ul>\n",
    "\n",
    "<ul>2. We use the function CountVectorize in scikit-learn package to fit the model using training data. </ul>\n",
    "\n",
    "<ul>3. We predict the star rating and calculate the accuracy rate of our model using test data. </ul>"
   ]
  },
  {
   "cell_type": "markdown",
   "metadata": {},
   "source": [
    "Write codes to implement the solution in python:"
   ]
  },
  {
   "cell_type": "markdown",
   "metadata": {},
   "source": [
    "### Divide Review Dataset"
   ]
  },
  {
   "cell_type": "code",
   "execution_count": 16,
   "metadata": {},
   "outputs": [],
   "source": [
    "# Divide review data into two different datasets: training data and test data.\n",
    "# X presents review while y represents the star rating\n",
    "n = 0.75\n",
    "train_x = review['text'][0:int(lines_num * n)]\n",
    "train_y = review['stars'][0:int(lines_num * n)]\n",
    "test_x = review['text'][int(lines_num * n) + 1:]\n",
    "test_y = review['stars'][int(lines_num * n) + 1:]"
   ]
  },
  {
   "cell_type": "markdown",
   "metadata": {},
   "source": [
    "### Perform Bag of Words Model "
   ]
  },
  {
   "cell_type": "code",
   "execution_count": 17,
   "metadata": {},
   "outputs": [],
   "source": [
    "bag_of_words_vectorizer = CountVectorizer(analyzer = \"word\",\n",
    "                                          tokenizer = None,    \n",
    "                                          preprocessor = None,\n",
    "                                          ngram_range = (1, 1),\n",
    "                                          binary = False,\n",
    "                                          strip_accents='unicode')"
   ]
  },
  {
   "cell_type": "code",
   "execution_count": 18,
   "metadata": {},
   "outputs": [],
   "source": [
    "bow_feature_matrix_train = bag_of_words_vectorizer.fit_transform(train_x)\n",
    "bow_feature_matrix_test = bag_of_words_vectorizer.transform(test_x)"
   ]
  },
  {
   "cell_type": "code",
   "execution_count": 19,
   "metadata": {},
   "outputs": [],
   "source": [
    "multinomial_classifier_bow = MultinomialNB()\n",
    "multinomial_classifier_bow.fit(bow_feature_matrix_train, train_y)\n",
    "multinomial_prediction_bow = multinomial_classifier_bow.predict(bow_feature_matrix_test) "
   ]
  },
  {
   "cell_type": "code",
   "execution_count": 20,
   "metadata": {},
   "outputs": [
    {
     "name": "stdout",
     "output_type": "stream",
     "text": [
      "<class 'numpy.ndarray'>\n"
     ]
    }
   ],
   "source": [
    "# transform the type of test_y from Series to numpy.ndarray\n",
    "test_y = test_y.values\n",
    "print(type(test_y))"
   ]
  },
  {
   "cell_type": "markdown",
   "metadata": {},
   "source": [
    "### Overall accuracy rate of our model"
   ]
  },
  {
   "cell_type": "code",
   "execution_count": 21,
   "metadata": {},
   "outputs": [],
   "source": [
    "# define an accuracy_prediction function to calculate the accuracy rate of our model's prediction \n",
    "def accuracy_prediction(y_real, y_predict):\n",
    "    \n",
    "    assert len(y_real) == len(y_predict)\n",
    "    \n",
    "    count = 0 \n",
    "    for i in range(len(y_real)):\n",
    "        if y_real[i] == y_predict[i]:\n",
    "            count += 1\n",
    "    \n",
    "    accuracy = count / len(y_real)\n",
    "    \n",
    "    return accuracy"
   ]
  },
  {
   "cell_type": "code",
   "execution_count": 22,
   "metadata": {},
   "outputs": [
    {
     "data": {
      "text/plain": [
       "0.5966783867135469"
      ]
     },
     "execution_count": 22,
     "metadata": {},
     "output_type": "execute_result"
    }
   ],
   "source": [
    "overall_acc_rate = accuracy_prediction(test_y, multinomial_prediction_bow)\n",
    "overall_acc_rate"
   ]
  },
  {
   "cell_type": "markdown",
   "metadata": {},
   "source": [
    "# Results: summarize and visualize the results discovered from the analysis\n",
    "\n",
    "Please use figures, tables, or videos to communicate the results with the audience.\n"
   ]
  },
  {
   "cell_type": "code",
   "execution_count": 23,
   "metadata": {},
   "outputs": [],
   "source": [
    "# define a function to count the number of each star rating in datasets\n",
    "def count_each_star_num(stars):\n",
    "    count_1_star = 0\n",
    "    count_2_star = 0\n",
    "    count_3_star = 0\n",
    "    count_4_star = 0\n",
    "    count_5_star = 0\n",
    "    for i in range(len(stars)):\n",
    "        if stars[i] == 1:\n",
    "            count_1_star += 1\n",
    "        if stars[i] == 2:\n",
    "            count_2_star += 1\n",
    "        if stars[i] == 3:\n",
    "            count_3_star += 1\n",
    "        if stars[i] == 4:\n",
    "            count_4_star += 1\n",
    "        if stars[i] == 5:\n",
    "            count_5_star += 1\n",
    "    return [count_1_star, count_2_star, count_3_star, count_4_star, count_5_star]"
   ]
  },
  {
   "cell_type": "code",
   "execution_count": 24,
   "metadata": {},
   "outputs": [],
   "source": [
    "def precision_rate_each_star(y_real, y_predict, count_star_list):\n",
    "    \n",
    "    assert len(y_real) == len(y_predict)\n",
    "    \n",
    "    count_star_1 = 0\n",
    "    count_star_2 = 0\n",
    "    count_star_3 = 0\n",
    "    count_star_4 = 0\n",
    "    count_star_5 = 0\n",
    "    \n",
    "    for i in range(len(y_real)):\n",
    "        if y_real[i] == 1 and y_real[i] == y_predict[i]:\n",
    "            count_star_1 += 1\n",
    "        if y_real[i] == 2 and y_real[i] == y_predict[i]:\n",
    "            count_star_2 += 1\n",
    "        if y_real[i] == 3 and y_real[i] == y_predict[i]:\n",
    "            count_star_3 += 1\n",
    "        if y_real[i] == 4 and y_real[i] == y_predict[i]:\n",
    "            count_star_4 += 1\n",
    "        if y_real[i] == 5 and y_real[i] == y_predict[i]:\n",
    "            count_star_5 += 1\n",
    "\n",
    "    accuracy_1 = count_star_1 / count_star_list[0]\n",
    "    accuracy_2 = count_star_2 / count_star_list[1]\n",
    "    accuracy_3 = count_star_3 / count_star_list[2]\n",
    "    accuracy_4 = count_star_4 / count_star_list[3]\n",
    "    accuracy_5 = count_star_5 / count_star_list[4]\n",
    "    \n",
    "    return [accuracy_1, accuracy_2, accuracy_3, accuracy_4, accuracy_5]"
   ]
  },
  {
   "cell_type": "code",
   "execution_count": 26,
   "metadata": {},
   "outputs": [
    {
     "data": {
      "text/plain": [
       "[36128, 20030, 27429, 55499, 110913]"
      ]
     },
     "execution_count": 26,
     "metadata": {},
     "output_type": "execute_result"
    }
   ],
   "source": [
    "# we count the number of each star rating in test data. \n",
    "count_star_num = count_each_star_num(test_y)\n",
    "count_star_num"
   ]
  },
  {
   "cell_type": "code",
   "execution_count": 29,
   "metadata": {},
   "outputs": [
    {
     "data": {
      "text/plain": [
       "[0.7030281222320638,\n",
       " 0.3019970044932601,\n",
       " 0.36968172372306685,\n",
       " 0.6116146236869133,\n",
       " 0.66391676358948]"
      ]
     },
     "execution_count": 29,
     "metadata": {},
     "output_type": "execute_result"
    }
   ],
   "source": [
    "precision_rate_list = precision_rate_each_star(test_y, multinomial_prediction_bow, count_star_num)\n",
    "precision_rate_list"
   ]
  },
  {
   "cell_type": "code",
   "execution_count": 47,
   "metadata": {},
   "outputs": [
    {
     "data": {
      "image/png": "[encoded data removed]",
      "text/plain": [
       "<Figure size 432x288 with 1 Axes>"
      ]
     },
     "metadata": {
      "needs_background": "light"
     },
     "output_type": "display_data"
    }
   ],
   "source": [
    "names_list = ['1 star','2 star', '3 star', '4 star', '5 star']\n",
    "plt.bar(range(len(precision_rate_list)), precision_rate_list, color=['#54C2FF','#64B4E8','#7AA9FF','#6470E8', '#9C89FF'], tick_label = names_list)\n",
    "plt.rcParams['axes.facecolor'] = 'white'\n",
    "plt.show()"
   ]
  },
  {
   "cell_type": "markdown",
   "metadata": {},
   "source": [
    "### Calculate the Average Star Rating"
   ]
  },
  {
   "cell_type": "markdown",
   "metadata": {},
   "source": [
    "In this step, we calculate the average star rating based on our prediction and compare it with the actual average star rating in \"business.json\" file."
   ]
  },
  {
   "cell_type": "code",
   "execution_count": 48,
   "metadata": {},
   "outputs": [],
   "source": [
    "# inner join of review file and business file on key \"business_id\"\n",
    "df_review_and_business = pd.merge(business, review, on=\"business_id\", how=\"inner\")"
   ]
  },
  {
   "cell_type": "code",
   "execution_count": 49,
   "metadata": {},
   "outputs": [],
   "source": [
    "pre_avg_star_rating = df_review_and_business['stars_y'].groupby(df_review_and_business['business_id']).mean()\n",
    "actual_avg_star_rating = df_review_and_business['stars_x'].groupby(df_review_and_business['business_id']).mean()\n",
    "y_hat = actual_avg_star_rating - pre_avg_star_rating"
   ]
  },
  {
   "cell_type": "code",
   "execution_count": 52,
   "metadata": {
    "scrolled": true
   },
   "outputs": [
    {
     "data": {
      "image/png": "[encoded data removed]",
      "text/plain": [
       "<Figure size 432x288 with 1 Axes>"
      ]
     },
     "metadata": {
      "needs_background": "light"
     },
     "output_type": "display_data"
    }
   ],
   "source": [
    "plt.scatter(pre_avg_star_rating, y_hat, c = \"skyblue\", marker=\"*\",label=\"training data\")\n",
    "plt.legend(loc = \"upper right\")\n",
    "plt.hlines(y = 0, xmin = -10,xmax = 50,lw = 3,color=\"orange\")\n",
    "plt.xlim([1,5])\n",
    "plt.xlabel(\"predict_y\")\n",
    "plt.ylabel(\"the difference between y and y_hat\")\n",
    "plt.rcParams['axes.facecolor'] = 'cornsilk'\n",
    "plt.show()"
   ]
  },
  {
   "cell_type": "markdown",
   "metadata": {},
   "source": [
    "### Explore Review Data and Visulizatoin"
   ]
  },
  {
   "cell_type": "code",
   "execution_count": 53,
   "metadata": {},
   "outputs": [],
   "source": [
    "# transform review to .txt file\n",
    "review['text'][0:lines_num].to_frame().to_csv(r'review.txt', header=None, index=None, sep=' ', mode='a')"
   ]
  },
  {
   "cell_type": "markdown",
   "metadata": {},
   "source": [
    "We create a wordcloud map to see which words in user's review are most frequent"
   ]
  },
  {
   "cell_type": "code",
   "execution_count": 55,
   "metadata": {},
   "outputs": [],
   "source": [
    "file_path = 'review.txt'\n",
    "background_file_path = 'bg_file.png'"
   ]
  },
  {
   "cell_type": "code",
   "execution_count": 56,
   "metadata": {},
   "outputs": [],
   "source": [
    "def wordcloud_review(file_path, bg_file_path):\n",
    "    text = open(file_path,'r').read()\n",
    "    bg_pic = np.array(Image.open(bg_file_path))\n",
    "    wordcloud = WordCloud(\n",
    "        width = 1000,\n",
    "        height = 1000,\n",
    "        mask = bg_pic,\n",
    "        background_color = 'lavender',\n",
    "        max_words = 100, # extract top 100 frequent words from review\n",
    "        scale = 1.5).generate(text)\n",
    "    wordcloud.to_file('wordcloud.png')\n",
    "    plt.imshow(wordcloud)\n",
    "    width = 10\n",
    "    height = 10\n",
    "    plt.axis('off')\n",
    "    plt.show()"
   ]
  },
  {
   "cell_type": "code",
   "execution_count": 57,
   "metadata": {},
   "outputs": [
    {
     "data": {
      "image/png": "[encoded data removed]",
      "text/plain": [
       "<Figure size 432x288 with 1 Axes>"
      ]
     },
     "metadata": {
      "needs_background": "light"
     },
     "output_type": "display_data"
    }
   ],
   "source": [
    "wordcloud_review(file_path, background_file_path)"
   ]
  },
  {
   "cell_type": "markdown",
   "metadata": {},
   "source": [
    "Besides, we create a bar plot to see the distribution of star rating"
   ]
  },
  {
   "cell_type": "code",
   "execution_count": 58,
   "metadata": {},
   "outputs": [],
   "source": [
    "def star_distribution_plot(star_list):\n",
    "    names_list = ['1 star','2 star', '3 star', '4 star', '5 star']\n",
    "    plt.bar(range(len(star_list)), star_list, color = ['#54C2FF','#64B4E8','#7AA9FF','#6470E8', '#9C89FF'], tick_label = names_list)\n",
    "    plt.rcParams['axes.facecolor']='white'\n",
    "    plt.show()"
   ]
  },
  {
   "cell_type": "code",
   "execution_count": 59,
   "metadata": {},
   "outputs": [
    {
     "data": {
      "text/plain": [
       "[148519, 80458, 109804, 219363, 441856]"
      ]
     },
     "execution_count": 59,
     "metadata": {},
     "output_type": "execute_result"
    }
   ],
   "source": [
    "each_star_num = count_each_star_num(review['stars'])\n",
    "each_star_num"
   ]
  },
  {
   "cell_type": "code",
   "execution_count": 61,
   "metadata": {},
   "outputs": [
    {
     "data": {
      "image/png": "[encoded data removed]",
      "text/plain": [
       "<Figure size 432x288 with 1 Axes>"
      ]
     },
     "metadata": {
      "needs_background": "light"
     },
     "output_type": "display_data"
    }
   ],
   "source": [
    "star_distribution_plot(each_star_num)"
   ]
  },
  {
   "cell_type": "markdown",
   "metadata": {},
   "source": [
    "### Further explaination of the results \n",
    "\n",
    "What we find: \n",
    "\n",
    "<ol>From the results of our model, we find that the accuracy rate of one star, four stars and five stars is relatively high, but the accuracy rate of the 2 and 3-stars rating is relatively low. </ol>\n",
    "\n",
    "\n",
    "We propose two possible explainations for this phenomenon:\n",
    "\n",
    "\n",
    "1. From the wordcloud graph we create before, we can see some words that appear in high frequency like \"pretty good\", \"highly recommended\" . Those words have high sentimental tendency to express whether we like something or not. So we guess that those who give high star rating (4 or 5 star) tend to use some positive words. And our Bag of Words model can capture these words. Thus, our prediction is more accurate on star rating 4 or star rating 5. The same thing applies to the star rating one. People may tend to use negative words to describe their bad experiences. But for star rating 2 or 3, they may not directly use these words to express how they feel.   \n",
    "\n",
    "\n",
    "2. From the bar plot of the distribution of star ratings, we find that the number of star rating 1 and 4 and 5 is high and it means that we have more data source on these star ratings so we have more data on these star ratings to train our model which leads to high accuracy rate.\n"
   ]
  }
 ],
 "metadata": {
  "kernelspec": {
   "display_name": "Python 3",
   "language": "python",
   "name": "python3"
  },
  "language_info": {
   "codemirror_mode": {
    "name": "ipython",
    "version": 3
   },
   "file_extension": ".py",
   "mimetype": "text/x-python",
   "name": "python",
   "nbconvert_exporter": "python",
   "pygments_lexer": "ipython3",
   "version": "3.7.3"
  }
 },
 "nbformat": 4,
 "nbformat_minor": 1
}
